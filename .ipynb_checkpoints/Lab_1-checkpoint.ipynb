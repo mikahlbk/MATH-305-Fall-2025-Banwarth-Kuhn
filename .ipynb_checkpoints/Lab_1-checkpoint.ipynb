{
 "cells": [
  {
   "cell_type": "markdown",
   "id": "cb44615f-6718-4f57-aa9f-a71edbf130b4",
   "metadata": {},
   "source": [
    "<div style=\"font-family: ui-sans-serif, system-ui, -apple-system, Segoe UI, Roboto, 'Helvetica Neue', Arial; padding: 20px; border-radius: 16px; box-shadow: 0 10px 25px rgba(0,0,0,.08); background: linear-gradient(135deg,#fff 0%, #f0f7ff 60%, #e8fff4 100%);\">\n",
    "  <h1 style=\"margin:0 0 8px; font-size: 2rem;\">\n",
    "    👋 Welcome to Math 305 Lab 1!\n",
    "  </h1>\n",
    "<div style=\"text-align: center; font-size: 1.5rem; font-weight: bold; margin: 20px 0;\">\n",
    "  ✨This is a Jupyter notebook✨\n",
    "</div>\n",
    "      \n",
    "  <div style=\"margin-top:16px; padding:12px 14px; border:1px dashed #94a3b8; border-radius:12px; background:#fff;\">\n",
    "    <strong>Today’s mission:</strong> Familiarize ourselves with Jupyter notebooks, get started coding in Python, and think about numbers on the computer.</div>\n",
    "\n",
    "  <div style=\"margin-top:14p\n"
   ]
  },
  {
   "cell_type": "code",
   "execution_count": null,
   "id": "01aef11e-8c09-4a19-9c28-1fbfd2361440",
   "metadata": {},
   "outputs": [],
   "source": [
    "hours = 24\n",
    "minutes = hours*60\n",
    "seconds = hours*minutes*60\n",
    "print(\"The number of hours in a day is {}.\".format(hours))\n",
    "print(\"The number of minutes in a day is {}.\".format(minutes))\n",
    "print(\"The number of seconds in a day is {}.\".format(seconds))"
   ]
  },
  {
   "cell_type": "markdown",
   "id": "bebb2bc5-d9a7-45ad-897b-4837c758eb89",
   "metadata": {},
   "source": [
    "Make a variable called $\\texttt{seconds\\_in\\_week}$ that holds the number of seconds in a week and print it in a sentence below."
   ]
  },
  {
   "cell_type": "code",
   "execution_count": null,
   "id": "af21a1f4-23c3-4d5e-9572-5c603fc548ab",
   "metadata": {},
   "outputs": [],
   "source": [
    "#your code here"
   ]
  },
  {
   "cell_type": "markdown",
   "id": "c6d6d002-9ab8-4733-826d-d250f58465da",
   "metadata": {},
   "source": [
    "Pick your two favorite numbers. Combine them to print the sum, difference, product, true division, floor division, and exponentiation. Be sure to include which of the operations you used to get the result in the print statement i.e. $\\texttt{\"The sum of 2 + 10 = 12\"}$."
   ]
  },
  {
   "cell_type": "code",
   "execution_count": null,
   "id": "a8054b1e-4826-4204-90b9-aabc04def27c",
   "metadata": {},
   "outputs": [],
   "source": [
    "#your code here"
   ]
  },
  {
   "cell_type": "code",
   "execution_count": null,
   "id": "d573e3cb-e952-4b10-9c6a-b4ee592e4f35",
   "metadata": {},
   "outputs": [],
   "source": [
    "#consider the variables below\n",
    "wallet = 20\n",
    "snack_price = 3\n",
    "# TODO: subtract the snack price from the wallet amount twice, and then add 5 dollars you found on the ground. \n",
    "# Finally, print the final wallet amount in a sentence.\n"
   ]
  },
  {
   "cell_type": "code",
   "execution_count": null,
   "id": "f0e1af49-1a84-477a-a061-3d9536b914d9",
   "metadata": {},
   "outputs": [],
   "source": [
    "cookies = 23\n",
    "friends = 4\n",
    "# TODO: How many cookies does each friend get? How many are left over?\n",
    "# Print the result in a sentence using 'each =' and 'leftover ='."
   ]
  },
  {
   "cell_type": "markdown",
   "id": "7065c9a0-110e-4cd6-bd6d-dfa11f7609bf",
   "metadata": {},
   "source": [
    "Create a varibale called $\\texttt{first\\_name}$ that holds your name, and a variable called $\\texttt{last\\_name}$ that holds you last name. Then, use these two variables to make a new variable called $\\texttt{full\\_name}$ with a space in the middle. Finally, print the message $\\texttt{\"Hello, first\\_name last\\_name!\"}."
   ]
  },
  {
   "cell_type": "code",
   "execution_count": null,
   "id": "51f224d4-0f06-47c5-b24c-e5001ea9db7c",
   "metadata": {},
   "outputs": [],
   "source": [
    "#your code here"
   ]
  },
  {
   "cell_type": "code",
   "execution_count": null,
   "id": "13b2579e-ad4b-4cdd-aeff-8d54a7059e55",
   "metadata": {},
   "outputs": [],
   "source": [
    "laugh = \"ha\"\n",
    "# TODO: Print 'hahaha!' using the variable laugh."
   ]
  },
  {
   "cell_type": "markdown",
   "id": "196cec1c-6f58-4ab5-b5ea-d6fa84152181",
   "metadata": {},
   "source": [
    "By hand (no computers!) compute terms of this sequence until you notice a pattern. Use $x_0 = \\tfrac{1}{10}$ as an intial condition.  \n",
    "\n",
    "$$\n",
    "x_{n+1} =\n",
    "\\begin{cases}\n",
    "2x_n, & x_n \\in \\left[0, \\tfrac{1}{2}\\right], \\\\[6pt]\n",
    "2x_n - 1, & x_n \\in \\left(\\tfrac{1}{2}, 1\\right].\n",
    "\\end{cases}\n",
    "$$\n",
    "\n",
    "What is the pattern?"
   ]
  },
  {
   "cell_type": "markdown",
   "id": "ce3790b7-f284-4a61-90d4-67b8d9ea5535",
   "metadata": {},
   "source": [
    "Now have Python do it for you..."
   ]
  },
  {
   "cell_type": "code",
   "execution_count": null,
   "id": "b571381b-86f8-47f6-b4e4-3781921786ef",
   "metadata": {},
   "outputs": [],
   "source": [
    "#initial condition\n",
    "x = 1.0/10\n",
    "#for loops, we will learn about these soon!\n",
    "for n in range(50):\n",
    "    if x<= 0.5:#case 1\n",
    "        x = 2*x\n",
    "    else:#case 2\n",
    "        x=2*x-1\n",
    "    print(x)#print result"
   ]
  },
  {
   "cell_type": "markdown",
   "id": "1370768d-c226-48ee-90fc-42e2cd98e33c",
   "metadata": {},
   "source": [
    "What do you think happened on the computer and why did it give you a different answer? What, do you suppose, is the cautionary tale hiding behind the scenes with this problem?"
   ]
  },
  {
   "cell_type": "markdown",
   "id": "094ba192-0b9e-47d2-a93d-5f10f6e04285",
   "metadata": {},
   "source": [
    "Now what happens with this problem when you start with $x_0 = \\tfrac{1}{8}$? Why does this new initial condition work better?"
   ]
  }
 ],
 "metadata": {
  "kernelspec": {
   "display_name": "Python 3 (ipykernel)",
   "language": "python",
   "name": "python3"
  },
  "language_info": {
   "codemirror_mode": {
    "name": "ipython",
    "version": 3
   },
   "file_extension": ".py",
   "mimetype": "text/x-python",
   "name": "python",
   "nbconvert_exporter": "python",
   "pygments_lexer": "ipython3",
   "version": "3.9.6"
  }
 },
 "nbformat": 4,
 "nbformat_minor": 5
}
