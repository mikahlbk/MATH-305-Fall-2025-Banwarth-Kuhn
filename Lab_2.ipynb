{
 "cells": [
  {
   "cell_type": "markdown",
   "id": "cc16b26e-ea76-4425-9c5c-0a56faecc83f",
   "metadata": {},
   "source": [
    "# Part 1: Revisit Floating-Point Numbers"
   ]
  },
  {
   "cell_type": "markdown",
   "id": "3a400189-7fa2-4c0a-a51f-86167607cab8",
   "metadata": {},
   "source": [
    "#### $\\underline{\\text{Exercise 1:}}$ \n",
    "\n",
    "a) Recall from class on Tuesday that $0.1_{10} = 0.000110011001\\overline{1001}_{2}$.\n",
    "\n",
    "Run the code below and use the output to write $0.10_{10}$ using the IEEE-style floating-point format \n",
    "$$(-1)^s (1.\\texttt{xxxxx...x} \\times 2^{E}).$$ "
   ]
  },
  {
   "cell_type": "code",
   "execution_count": null,
   "id": "65b2a626-6751-473b-b6e4-edca6f48e91a",
   "metadata": {},
   "outputs": [],
   "source": [
    "#sometimes in Python we need to import different tools\n",
    "import struct\n",
    "\n",
    "#this is how you write a function in Ptyhon more on that later\n",
    "########## do not edit below ##########\n",
    "def float_to_ieee754(x):\n",
    "    bits = struct.unpack('!Q', struct.pack('!d', x))[0]\n",
    "    binary = f\"{bits:064b}\"\n",
    "\n",
    "    sign = binary[0]\n",
    "    exponent = binary[1:12]\n",
    "    mantissa = binary[12:]\n",
    "\n",
    "    return sign, exponent, mantissa\n",
    "########## do not edit above ##########\n",
    "\n",
    "#in the next line we call the function \"float_to_ieee\" \n",
    "#with input = .1, the number we want to investigate\n",
    "#the outputs of the function are being assigned to the variables sign, exponent, and mantissa\n",
    "#more on functions soon!!!\n",
    "\n",
    "input_val = 0.1\n",
    "sign, exponent, mantissa = float_to_ieee754(input_val)\n",
    "\n",
    "print(\"Sign bit:\", sign)\n",
    "print(\"Exponent bits:\", exponent, \" = \", int(exponent, 2))\n",
    "print(\"Mantissa bits:\", mantissa)"
   ]
  },
  {
   "cell_type": "markdown",
   "id": "b4b2cef9-172c-4401-97df-69911d840b04",
   "metadata": {},
   "source": [
    "__________________________"
   ]
  },
  {
   "cell_type": "markdown",
   "id": "5a680384-3423-4e87-9e81-27e5bb2fc3fd",
   "metadata": {},
   "source": [
    "b) In Python, we can print as many decimal places as we want using the following command:\n",
    "$$\\texttt{print(\"The value of variable\\_name = \\{:.10f\\}\".format(variable\\_name))}$$\n",
    "\n",
    "This, for example, would print 10 decimal places. Use this information and your work from above to explain the output of the code below."
   ]
  },
  {
   "cell_type": "code",
   "execution_count": null,
   "id": "8ca18c0c-8eda-456f-8e33-22ce27dd5cec",
   "metadata": {},
   "outputs": [],
   "source": [
    "print(\"The computer stored value of 0.1 = {:.20f}\".format(.1))"
   ]
  },
  {
   "cell_type": "markdown",
   "id": "ccc5fe40-1dd3-42e9-b8bb-752fbaa78b88",
   "metadata": {},
   "source": [
    "__________________________"
   ]
  },
  {
   "cell_type": "markdown",
   "id": "66579725-c3b5-442c-a775-91bbc965796c",
   "metadata": {},
   "source": [
    "#### $\\underline{\\text{Exercise 2:}}$ \n",
    "\n",
    "a) Define a variable in the code cell below called $\\texttt{smallest\\_num}$ and assign it the value of the smallest positive number we can represent using double-precision. Then print the name and value of the variable in a sentence.\n"
   ]
  },
  {
   "cell_type": "code",
   "execution_count": null,
   "id": "c8f6cd99-461f-4533-bbb7-85db66f18aa3",
   "metadata": {},
   "outputs": [],
   "source": [
    "#your code here"
   ]
  },
  {
   "cell_type": "markdown",
   "id": "74471382-979b-4ea8-b414-0f5aeb5519a3",
   "metadata": {},
   "source": [
    "______________________________"
   ]
  },
  {
   "cell_type": "markdown",
   "id": "7abe29a6-4a07-4b20-9fe1-f65c429921da",
   "metadata": {},
   "source": [
    "b) In the code cell below, add together $\\texttt{smallest\\_num}$ + 1.0 and print the result. Explain what happens and explain why you think that happens."
   ]
  },
  {
   "cell_type": "markdown",
   "id": "83fdffd7-bf6b-44ef-b43d-e9ba6b0b43df",
   "metadata": {},
   "source": [
    "c) What is the distance (gap) between 1.0 and the next largest floating point number? \n",
    "\n",
    "Once you have an answer, store this value in a variable called $\\texttt{machine\\_epsilon}$. Print the value of $\\texttt{1.0 + machine\\_epsilon}$ in two ways to verify your thinking. \n",
    "\n",
    "-First, with your choice of decimal places.\n",
    "\n",
    "-Second, use the $\\texttt{float\\_to\\_ieee754}$ function above."
   ]
  },
  {
   "cell_type": "code",
   "execution_count": null,
   "id": "47c3719d-6a4d-47bd-84f3-2ef8b6ddf21e",
   "metadata": {},
   "outputs": [],
   "source": [
    "#your code here"
   ]
  },
  {
   "cell_type": "code",
   "execution_count": null,
   "id": "4e84e51f-b86d-4ac3-9835-992b368c4f3a",
   "metadata": {},
   "outputs": [],
   "source": [
    "#your code here"
   ]
  },
  {
   "cell_type": "markdown",
   "id": "6da2ed28-c778-4b53-bcec-d4c7f60b34c4",
   "metadata": {},
   "source": [
    "-----------------------------------"
   ]
  },
  {
   "cell_type": "markdown",
   "id": "ee555fd9-3ee9-45a6-8bb5-37e548b66c66",
   "metadata": {},
   "source": [
    "d) Apply what you learned to distance (gap) bewteen 2.0 and the next largest floating point number."
   ]
  },
  {
   "cell_type": "code",
   "execution_count": 1,
   "id": "d82338db-1ddb-420e-bdce-b897c0b4ad63",
   "metadata": {},
   "outputs": [],
   "source": [
    "#your code here"
   ]
  },
  {
   "cell_type": "markdown",
   "id": "41b36d0d-846c-4ea8-b5ff-aaf773ec3252",
   "metadata": {},
   "source": [
    "-----------------------------------"
   ]
  },
  {
   "cell_type": "markdown",
   "id": "4dad6879-655e-4451-bbea-d2a47b4c8278",
   "metadata": {},
   "source": [
    "e) The $\\textbf{absolute\\_error}$ between 1 and the next largest floating point is defined as\n",
    "$$\\texttt{AbsError}= |1-\\texttt{next\\_largest}|.$$\n",
    "\n",
    "\n",
    "The $\\textbf{relative\\_error}$ between 1 and the next largest floating point is defined as\n",
    "$$\\texttt{RelError} = \\frac{|1-\\texttt{next\\_largest}|}{1}.$$\n",
    "\n",
    "\n",
    "\n",
    "Use the code cell below to compute and print the $\\textbf{absolute\\_error}$ and relative error between 1 and the next largest floating point number. Then do the same thing for 2 and the next largest floating point number. What do you notice?\n",
    "\n",
    "To compute the absolute value of a number in Python use the\n",
    "\n",
    "$$\\texttt{np.abs(value)}$$\n",
    "\n",
    "command using the numpy library.\n",
    "\n",
    "Let's break this line of code down. See how it says \"$\\texttt{np.}$\" in front of $\\texttt{abs(value)}$ function call? This is how you call the absolute value function from the $\\texttt{numpy}$ library. \n",
    "\n",
    "To do this, you have to import the $\\texttt{numpy}$ library first. Most people do this and give it the nickname $\\texttt{np}$ for short. That command looks like\n",
    "\n",
    "$$\\texttt{import numpy as np}$$\n",
    "\n",
    "So this imports the $\\texttt{numpy}$ library and calls it $\\texttt{np}$ for short. If I typed, \n",
    "\n",
    "$$\\texttt{import numpy as kittycat}$$\n",
    "\n",
    "then I would have to type\n",
    "\n",
    "$$\\texttt{kittycat.abs(value)}.$$\n",
    "\n",
    "to use aboslute value function, since I nicknamed the $\\texttt{numpy}$ library \"$\\texttt{kittycat}$\"."
   ]
  },
  {
   "cell_type": "code",
   "execution_count": 7,
   "id": "d3fb632a-daff-4dd2-af15-34c8d6a79925",
   "metadata": {},
   "outputs": [
    {
     "name": "stdout",
     "output_type": "stream",
     "text": [
      "2.220446049250313e-16\n",
      "8.881784197001252e-16\n",
      "2.220446049250313e-16\n"
     ]
    }
   ],
   "source": [
    "import numpy as np"
   ]
  },
  {
   "cell_type": "markdown",
   "id": "604cc7f9-4cfd-45e8-9277-c008f78250ec",
   "metadata": {},
   "source": [
    "# Part 2: Office Space Scam"
   ]
  },
  {
   "cell_type": "markdown",
   "id": "d9dbcfea-4c94-46f6-b606-00943a5b5eb4",
   "metadata": {},
   "source": [
    "In the 1999 movie Office Space, a character creates a program that takes fractions of cents that are truncated in a bank’s transactions and deposits them to his own account. This is idea has been attempted in the past and now banks look for this sort of thing. In this exercise you will develop an initial algorithm to simulate this scam. Next week we will refine the algorithm to see how long it takes to become a millionaire (is that even cool anymore).\n",
    "\n",
    "$\\underline{\\text{Assumptions:}}$\n",
    "\n",
    "-Assume (for now) that you have access to 5 bank accounts.\n",
    "\n",
    "-Assume (for now) that the account balances range between $\\$10$ and $\\$100$.\n",
    "\n",
    "-Assume that the annual interest rate on the accounts is $5\\%$ and the interest is compounded daily.\n",
    "\n",
    "$\\textbf{Compounded daily}$ means the bank calculates and applies interest  every single day, using the balance at the end of that day.\n",
    "\n",
    "Instead of adding $5\\%$ at the end of the year all at once (i.e. if you start with $\\$100$, then at the end of year 1 you will have $100*(1.05) = 105$) the bank adds a tiny fraction of interest each day. That tiny fraction is computed using\n",
    "\n",
    "$$r_{\\text{daily}} = \\frac{r_{\\text{annual}}}{365}$$\n",
    "\n",
    "So for a $5\\%$ annual interest rate,\n",
    "\n",
    "$$r_{\\text{daily}} = \\frac{0.05}{365} \\approx 0.00013698630136986303.$$\n",
    "\n",
    "So if you start with $\\$100$, then at the end of day 1 you will have $100*(1.00013698630136986303) \\approx 100.01369863013699$.\n",
    "\n",
    "-Assume that you truncate the accounts to the nearest penny, and add the truncated amount into an account titled “illegal” which starts with a $\\$0$ balance.\n",
    "\n",
    "\n",
    "### a) By hand (no computer) write an algorithm (e.g. steps you would use) to increase the accounts by $(5/365)\\%$ per day, truncate the accounts to the nearest penny, and add the truncated amount into an account titled “illegal.”"
   ]
  }
 ],
 "metadata": {
  "kernelspec": {
   "display_name": "Python 3 (ipykernel)",
   "language": "python",
   "name": "python3"
  },
  "language_info": {
   "codemirror_mode": {
    "name": "ipython",
    "version": 3
   },
   "file_extension": ".py",
   "mimetype": "text/x-python",
   "name": "python",
   "nbconvert_exporter": "python",
   "pygments_lexer": "ipython3",
   "version": "3.9.6"
  }
 },
 "nbformat": 4,
 "nbformat_minor": 5
}
