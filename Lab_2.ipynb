{
 "cells": [
  {
   "cell_type": "markdown",
   "id": "cc16b26e-ea76-4425-9c5c-0a56faecc83f",
   "metadata": {},
   "source": [
    "# Part 1: Revisit Floating-Point Numbers"
   ]
  },
  {
   "cell_type": "markdown",
   "id": "3a400189-7fa2-4c0a-a51f-86167607cab8",
   "metadata": {},
   "source": [
    "#### $\\underline{\\text{Exercise 1:}}$ \n",
    "\n",
    "a) Recall from class on Tuesday that $0.1_{10} = 0.000110011001\\overline{1001}_{2}$.\n",
    "\n",
    "Run the code below and use the output to write $0.10_{10}$ using the IEEE-style floating-point format \n",
    "$$(-1)^s (1.\\texttt{xxxxx...x} \\times 2^{E}).$$ "
   ]
  },
  {
   "cell_type": "code",
   "execution_count": 14,
   "id": "65b2a626-6751-473b-b6e4-edca6f48e91a",
   "metadata": {},
   "outputs": [
    {
     "name": "stdout",
     "output_type": "stream",
     "text": [
      "Sign bit: 0\n",
      "Exponent bits: 01111111011  =  1019\n",
      "Mantissa bits: 1001100110011001100110011001100110011001100110011010\n"
     ]
    }
   ],
   "source": [
    "#sometimes in Python we need to import different tools\n",
    "import struct\n",
    "\n",
    "#this is how you write a function in Ptyhon more on that later\n",
    "########## do not edit below ##########\n",
    "def float_to_ieee754(x):\n",
    "    bits = struct.unpack('!Q', struct.pack('!d', x))[0]\n",
    "    binary = f\"{bits:064b}\"\n",
    "\n",
    "    sign = binary[0]\n",
    "    exponent = binary[1:12]\n",
    "    mantissa = binary[12:]\n",
    "\n",
    "    return sign, exponent, mantissa\n",
    "########## do not edit above ##########\n",
    "\n",
    "#in the next line we call the function \"float_to_ieee\" \n",
    "#with input = .1, the number we want to investigate\n",
    "#the outputs of the function are being assigned to the variables sign, exponent, and mantissa\n",
    "#more on functions soon!!!\n",
    "\n",
    "input_val = 0.1\n",
    "sign, exponent, mantissa = float_to_ieee754(input_val)\n",
    "\n",
    "print(\"Sign bit:\", sign)\n",
    "print(\"Exponent bits:\", exponent, \" = \", int(exponent, 2))\n",
    "print(\"Mantissa bits:\", mantissa)"
   ]
  },
  {
   "cell_type": "markdown",
   "id": "b4b2cef9-172c-4401-97df-69911d840b04",
   "metadata": {},
   "source": [
    "__________________________"
   ]
  },
  {
   "cell_type": "markdown",
   "id": "5a680384-3423-4e87-9e81-27e5bb2fc3fd",
   "metadata": {},
   "source": [
    "b) In Python, we can print as many decimal places as we want using the following command:\n",
    "$$\\texttt{print(\"The value of variable\\_name = \\{:.10f\\}\".format(variable\\_name))}$$\n",
    "\n",
    "This, for example, would print 10 decimal places. Use this information and your work from above to explain the output of the code below."
   ]
  },
  {
   "cell_type": "code",
   "execution_count": 15,
   "id": "8ca18c0c-8eda-456f-8e33-22ce27dd5cec",
   "metadata": {},
   "outputs": [
    {
     "name": "stdout",
     "output_type": "stream",
     "text": [
      "The computer stored value of 0.1 = 0.10000000000000000555\n"
     ]
    }
   ],
   "source": [
    "print(\"The computer stored value of 0.1 = {:.20f}\".format(.1))"
   ]
  },
  {
   "cell_type": "markdown",
   "id": "ccc5fe40-1dd3-42e9-b8bb-752fbaa78b88",
   "metadata": {},
   "source": [
    "__________________________"
   ]
  },
  {
   "cell_type": "markdown",
   "id": "66579725-c3b5-442c-a775-91bbc965796c",
   "metadata": {},
   "source": [
    "#### $\\underline{\\text{Exercise 2:}}$ \n",
    "\n",
    "a) Define a variable in the code cell below called $\\texttt{smallest\\_num}$ and assign it the value of the smallest positive number we can represent using double-precision. Then print the name and value of the variable in a sentence.\n"
   ]
  },
  {
   "cell_type": "code",
   "execution_count": 16,
   "id": "c8f6cd99-461f-4533-bbb7-85db66f18aa3",
   "metadata": {},
   "outputs": [],
   "source": [
    "#your code here"
   ]
  },
  {
   "cell_type": "markdown",
   "id": "74471382-979b-4ea8-b414-0f5aeb5519a3",
   "metadata": {},
   "source": [
    "______________________________"
   ]
  },
  {
   "cell_type": "markdown",
   "id": "7abe29a6-4a07-4b20-9fe1-f65c429921da",
   "metadata": {},
   "source": [
    "b) In the code cell below, add together $\\texttt{smallest\\_num}$ + 1.0 and print the result. Explain what happens and explain why you think that happens."
   ]
  },
  {
   "cell_type": "code",
   "execution_count": 17,
   "id": "d503de4f-d3ab-4d90-9ed3-b548e2705746",
   "metadata": {},
   "outputs": [],
   "source": [
    "#your code here"
   ]
  },
  {
   "cell_type": "markdown",
   "id": "6da2ed28-c778-4b53-bcec-d4c7f60b34c4",
   "metadata": {},
   "source": [
    "-----------------------------------"
   ]
  },
  {
   "cell_type": "markdown",
   "id": "a3363d22-7491-459b-88d6-07833642d71b",
   "metadata": {},
   "source": [
    "c) What is the distance (gap) between 1.0 and the next largest floating point number? \n",
    "\n",
    "Once you have an answer, store this value in a variable called $\\texttt{machine\\_epsilon}$. Print the value of $\\texttt{1.0 + machine\\_epsilon}$ in two ways to verify your thinking. \n",
    "\n",
    "-First, with your choice of decimal places.\n",
    "\n",
    "-Second, use the $\\texttt{float\\_to\\_ieee754}$ function above."
   ]
  },
  {
   "cell_type": "code",
   "execution_count": 18,
   "id": "1e7a367b-b359-4091-af6f-b132c0cfbad8",
   "metadata": {},
   "outputs": [],
   "source": [
    "#your code here"
   ]
  },
  {
   "cell_type": "markdown",
   "id": "ee555fd9-3ee9-45a6-8bb5-37e548b66c66",
   "metadata": {},
   "source": [
    "d) Apply what you learned to distance (gap) bewteen 2.0 and the next largest floating point number."
   ]
  },
  {
   "cell_type": "code",
   "execution_count": 19,
   "id": "6eabac08-331e-48f4-b422-8e10d6aeda39",
   "metadata": {},
   "outputs": [],
   "source": [
    "#your code here (if needed)"
   ]
  },
  {
   "cell_type": "markdown",
   "id": "604cc7f9-4cfd-45e8-9277-c008f78250ec",
   "metadata": {},
   "source": [
    "# Part 2: Office Space Scam"
   ]
  },
  {
   "cell_type": "markdown",
   "id": "d9dbcfea-4c94-46f6-b606-00943a5b5eb4",
   "metadata": {},
   "source": [
    "In the 1999 movie Office Space, a character creates a program that takes fractions of cents that are truncated in a bank’s transactions and deposits them to his own account. This is idea has been attempted in the past and now banks look for this sort of thing. In this exercise you will develop an initial algorithm to simulate this scam. Next week we will refine the algorithm to see how long it takes to become a millionaire (is that even cool anymore).\n",
    "\n",
    "$\\underline{\\text{Assumptions:}}$\n",
    "\n",
    "-Assume (for now) that you have access to 5 bank accounts.\n",
    "\n",
    "-Assume (for now) that the account balances range between $\\$10$ and $\\$100$.\n",
    "\n",
    "-Assume that the annual interest rate on the accounts is $5\\%$ and the interest is compounded daily.\n",
    "\n",
    "$\\textbf{Compounded daily}$ means the bank calculates and applies interest  every single day, using the balance at the end of that day.\n",
    "\n",
    "Instead of adding $5\\%$ at the end of the year all at once (i.e. if you start with $\\$100$, then at the end of year 1 you will have $100*(1.05) = 105$) the bank adds a tiny fraction of interest each day. That tiny fraction is computed using\n",
    "\n",
    "$$r_{\\text{daily}} = \\frac{r_{\\text{annual}}}{365}$$\n",
    "\n",
    "So for a $5\\%$ annual interest rate,\n",
    "\n",
    "$$r_{\\text{daily}} = \\frac{0.05}{365} \\approx 0.00013698630136986303.$$\n",
    "\n",
    "So if you start with $\\$100$, then at the end of day 1 you will have $100*(1.00013698630136986303) \\approx 100.01369863013699$.\n",
    "\n",
    "-Assume that you truncate the accounts to the nearest penny, and add the truncated amount into an account titled “illegal” which starts with a $\\$0$ balance.\n",
    "\n",
    "\n",
    "### a) By hand (no computer) write an algorithm (e.g. steps you would use) to increase the accounts by $(5/365)\\%$ per day, truncate the accounts to the nearest penny, and add the truncated amount into an account titled “illegal.”"
   ]
  }
 ],
 "metadata": {
  "kernelspec": {
   "display_name": "Python 3 (ipykernel)",
   "language": "python",
   "name": "python3"
  },
  "language_info": {
   "codemirror_mode": {
    "name": "ipython",
    "version": 3
   },
   "file_extension": ".py",
   "mimetype": "text/x-python",
   "name": "python",
   "nbconvert_exporter": "python",
   "pygments_lexer": "ipython3",
   "version": "3.9.6"
  }
 },
 "nbformat": 4,
 "nbformat_minor": 5
}
